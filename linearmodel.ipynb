{
 "cells": [
  {
   "cell_type": "code",
   "execution_count": 3,
   "id": "fcb71a7f",
   "metadata": {},
   "outputs": [
    {
     "ename": "ModuleNotFoundError",
     "evalue": "No module named 'pandas'",
     "output_type": "error",
     "traceback": [
      "\u001b[1;31m---------------------------------------------------------------------------\u001b[0m",
      "\u001b[1;31mModuleNotFoundError\u001b[0m                       Traceback (most recent call last)",
      "Cell \u001b[1;32mIn[3], line 1\u001b[0m\n\u001b[1;32m----> 1\u001b[0m \u001b[39mimport\u001b[39;00m \u001b[39mpandas\u001b[39;00m \u001b[39mas\u001b[39;00m \u001b[39mpd\u001b[39;00m\n\u001b[0;32m      2\u001b[0m \u001b[39mimport\u001b[39;00m \u001b[39mnumpy\u001b[39;00m \u001b[39mas\u001b[39;00m \u001b[39mnp\u001b[39;00m\n\u001b[0;32m      3\u001b[0m \u001b[39mfrom\u001b[39;00m \u001b[39msklearn\u001b[39;00m\u001b[39m.\u001b[39;00m\u001b[39mmodel_selection\u001b[39;00m \u001b[39mimport\u001b[39;00m train_test_split\n",
      "\u001b[1;31mModuleNotFoundError\u001b[0m: No module named 'pandas'"
     ]
    }
   ],
   "source": [
    "import pandas as pd\n",
    "import numpy as np\n",
    "from sklearn.model_selection import train_test_split\n",
    "from sklearn import linear_model \n",
    "import sklearn.metrics as sm\n",
    "import matplotlib.pyplot as plt\n",
    "\n",
    "\n",
    "data = pd.read_csv(\"employees.csv\")\n",
    "#data = np.genfromtxt('employees.csv', delimiter=',')[:,:-1]\n",
    "#data.head()\n",
    "X = data['location']\n",
    "y = data['role']\n",
    "#X = df.iloc[:, :-1].values    #  Independent Variable\n",
    "#y = df.iloc[:, -1].values     #  Dependent Variable\n",
    "\n",
    "X_train, X_test, y_train, y_test = train_test_split(X,y, test_size=0.3, random_state=42)\n",
    "\n",
    "X_train = np.array(X_train).reshape((len(X_train),1))\n",
    "y_train = np.array(y_train).reshape((len(y_train),1))\n",
    "\n",
    "X_test = np.array(X_test).reshape(len(X_test), 1)\n",
    "y_test = np.array(y_test).reshape(len(y_test), 1)\n",
    "\n",
    "model = linear_model.LinearRegression()\n",
    "model.fit(X_train, y_train)\n",
    "\n",
    "y_train_pred = model.predict(X_train)\n",
    "\n",
    "plt.figure()\n",
    "plt.scatter(X_train, y_train, color='blue', label=\"True Value\")\n",
    "plt.plot(X_train, y_train_pred, color='black', linewidth=2, label=\"Prediction\")\n",
    "plt.xlabel(\"Location\")\n",
    "plt.ylabel(\"Role\")\n",
    "plt.title('Prediction Result of Training Data')\n",
    "plt.legend()\n",
    "plt.show()\n",
    "\n",
    "y_train_pred = model.predict(X_train)\n"
   ]
  },
  {
   "cell_type": "code",
   "execution_count": null,
   "id": "62078eb9",
   "metadata": {},
   "outputs": [],
   "source": []
  }
 ],
 "metadata": {
  "kernelspec": {
   "display_name": "Python 3 (ipykernel)",
   "language": "python",
   "name": "python3"
  },
  "language_info": {
   "codemirror_mode": {
    "name": "ipython",
    "version": 3
   },
   "file_extension": ".py",
   "mimetype": "text/x-python",
   "name": "python",
   "nbconvert_exporter": "python",
   "pygments_lexer": "ipython3",
   "version": "3.11.4"
  }
 },
 "nbformat": 4,
 "nbformat_minor": 5
}
